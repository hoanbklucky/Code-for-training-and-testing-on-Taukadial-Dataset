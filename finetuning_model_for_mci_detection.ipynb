{
 "cells": [
  {
   "cell_type": "code",
   "execution_count": 1,
   "metadata": {},
   "outputs": [],
   "source": [
    "#from datasets import load_dataset\n",
    "import pandas as pd\n",
    "import sys\n",
    "import os"
   ]
  },
  {
   "cell_type": "markdown",
   "metadata": {},
   "source": [
    "### Read the csv file"
   ]
  },
  {
   "cell_type": "code",
   "execution_count": 58,
   "metadata": {},
   "outputs": [],
   "source": [
    "dir = r'C:\\Users\\ngoth\\OneDrive - flsouthern.edu\\Research\\AI4AD_Speech\\TAUKADIAL\\TAUKADIAL-24-train\\TAUKADIAL-24\\train'\n",
    "filename = os.path.join(dir, 'groundtruth.csv')\n",
    "test_dir = r'C:\\Users\\ngoth\\OneDrive - flsouthern.edu\\Research\\AI4AD_Speech\\TAUKADIAL\\TAUKADIAL-24-test\\TAUKADIAL-24\\test'\n",
    "test_filename = os.path.join(test_dir, 'testgroundtruth.csv')"
   ]
  },
  {
   "cell_type": "code",
   "execution_count": 59,
   "metadata": {},
   "outputs": [
    {
     "data": {
      "text/html": [
       "<div>\n",
       "<style scoped>\n",
       "    .dataframe tbody tr th:only-of-type {\n",
       "        vertical-align: middle;\n",
       "    }\n",
       "\n",
       "    .dataframe tbody tr th {\n",
       "        vertical-align: top;\n",
       "    }\n",
       "\n",
       "    .dataframe thead th {\n",
       "        text-align: right;\n",
       "    }\n",
       "</style>\n",
       "<table border=\"1\" class=\"dataframe\">\n",
       "  <thead>\n",
       "    <tr style=\"text-align: right;\">\n",
       "      <th></th>\n",
       "      <th>tkdname</th>\n",
       "      <th>age</th>\n",
       "      <th>sex</th>\n",
       "      <th>mmse</th>\n",
       "      <th>dx</th>\n",
       "    </tr>\n",
       "  </thead>\n",
       "  <tbody>\n",
       "    <tr>\n",
       "      <th>0</th>\n",
       "      <td>taukdial-002-1.wav</td>\n",
       "      <td>72</td>\n",
       "      <td>F</td>\n",
       "      <td>29</td>\n",
       "      <td>NC</td>\n",
       "    </tr>\n",
       "    <tr>\n",
       "      <th>1</th>\n",
       "      <td>taukdial-002-2.wav</td>\n",
       "      <td>72</td>\n",
       "      <td>F</td>\n",
       "      <td>29</td>\n",
       "      <td>NC</td>\n",
       "    </tr>\n",
       "    <tr>\n",
       "      <th>2</th>\n",
       "      <td>taukdial-002-3.wav</td>\n",
       "      <td>72</td>\n",
       "      <td>F</td>\n",
       "      <td>29</td>\n",
       "      <td>NC</td>\n",
       "    </tr>\n",
       "    <tr>\n",
       "      <th>3</th>\n",
       "      <td>taukdial-003-1.wav</td>\n",
       "      <td>80</td>\n",
       "      <td>M</td>\n",
       "      <td>23</td>\n",
       "      <td>MCI</td>\n",
       "    </tr>\n",
       "    <tr>\n",
       "      <th>4</th>\n",
       "      <td>taukdial-003-2.wav</td>\n",
       "      <td>80</td>\n",
       "      <td>M</td>\n",
       "      <td>23</td>\n",
       "      <td>MCI</td>\n",
       "    </tr>\n",
       "  </tbody>\n",
       "</table>\n",
       "</div>"
      ],
      "text/plain": [
       "              tkdname  age sex  mmse   dx\n",
       "0  taukdial-002-1.wav   72   F    29   NC\n",
       "1  taukdial-002-2.wav   72   F    29   NC\n",
       "2  taukdial-002-3.wav   72   F    29   NC\n",
       "3  taukdial-003-1.wav   80   M    23  MCI\n",
       "4  taukdial-003-2.wav   80   M    23  MCI"
      ]
     },
     "execution_count": 59,
     "metadata": {},
     "output_type": "execute_result"
    }
   ],
   "source": [
    "df = pd.read_csv(filename)\n",
    "df.head()"
   ]
  },
  {
   "cell_type": "code",
   "execution_count": 61,
   "metadata": {},
   "outputs": [
    {
     "data": {
      "text/html": [
       "<div>\n",
       "<style scoped>\n",
       "    .dataframe tbody tr th:only-of-type {\n",
       "        vertical-align: middle;\n",
       "    }\n",
       "\n",
       "    .dataframe tbody tr th {\n",
       "        vertical-align: top;\n",
       "    }\n",
       "\n",
       "    .dataframe thead th {\n",
       "        text-align: right;\n",
       "    }\n",
       "</style>\n",
       "<table border=\"1\" class=\"dataframe\">\n",
       "  <thead>\n",
       "    <tr style=\"text-align: right;\">\n",
       "      <th></th>\n",
       "      <th>tkdname</th>\n",
       "      <th>mmse</th>\n",
       "      <th>dx</th>\n",
       "    </tr>\n",
       "  </thead>\n",
       "  <tbody>\n",
       "    <tr>\n",
       "      <th>0</th>\n",
       "      <td>taukdial-001-1.wav</td>\n",
       "      <td>27</td>\n",
       "      <td>NC</td>\n",
       "    </tr>\n",
       "    <tr>\n",
       "      <th>1</th>\n",
       "      <td>taukdial-001-2.wav</td>\n",
       "      <td>27</td>\n",
       "      <td>NC</td>\n",
       "    </tr>\n",
       "    <tr>\n",
       "      <th>2</th>\n",
       "      <td>taukdial-001-3.wav</td>\n",
       "      <td>27</td>\n",
       "      <td>NC</td>\n",
       "    </tr>\n",
       "    <tr>\n",
       "      <th>3</th>\n",
       "      <td>taukdial-010-1.wav</td>\n",
       "      <td>27</td>\n",
       "      <td>MCI</td>\n",
       "    </tr>\n",
       "    <tr>\n",
       "      <th>4</th>\n",
       "      <td>taukdial-010-2.wav</td>\n",
       "      <td>27</td>\n",
       "      <td>MCI</td>\n",
       "    </tr>\n",
       "    <tr>\n",
       "      <th>5</th>\n",
       "      <td>taukdial-010-3.wav</td>\n",
       "      <td>27</td>\n",
       "      <td>MCI</td>\n",
       "    </tr>\n",
       "    <tr>\n",
       "      <th>6</th>\n",
       "      <td>taukdial-012-1.wav</td>\n",
       "      <td>29</td>\n",
       "      <td>NC</td>\n",
       "    </tr>\n",
       "    <tr>\n",
       "      <th>7</th>\n",
       "      <td>taukdial-012-2.wav</td>\n",
       "      <td>29</td>\n",
       "      <td>NC</td>\n",
       "    </tr>\n",
       "    <tr>\n",
       "      <th>8</th>\n",
       "      <td>taukdial-012-3.wav</td>\n",
       "      <td>29</td>\n",
       "      <td>NC</td>\n",
       "    </tr>\n",
       "    <tr>\n",
       "      <th>9</th>\n",
       "      <td>taukdial-013-1.wav</td>\n",
       "      <td>28</td>\n",
       "      <td>MCI</td>\n",
       "    </tr>\n",
       "  </tbody>\n",
       "</table>\n",
       "</div>"
      ],
      "text/plain": [
       "              tkdname  mmse   dx\n",
       "0  taukdial-001-1.wav    27   NC\n",
       "1  taukdial-001-2.wav    27   NC\n",
       "2  taukdial-001-3.wav    27   NC\n",
       "3  taukdial-010-1.wav    27  MCI\n",
       "4  taukdial-010-2.wav    27  MCI\n",
       "5  taukdial-010-3.wav    27  MCI\n",
       "6  taukdial-012-1.wav    29   NC\n",
       "7  taukdial-012-2.wav    29   NC\n",
       "8  taukdial-012-3.wav    29   NC\n",
       "9  taukdial-013-1.wav    28  MCI"
      ]
     },
     "execution_count": 61,
     "metadata": {},
     "output_type": "execute_result"
    }
   ],
   "source": [
    "test_df = pd.read_csv(test_filename, sep=';')\n",
    "test_df.head(10)"
   ]
  },
  {
   "cell_type": "markdown",
   "metadata": {},
   "source": [
    "### Devide it into 5 folds for 5 folds cross validation"
   ]
  },
  {
   "cell_type": "code",
   "execution_count": 4,
   "metadata": {},
   "outputs": [
    {
     "name": "stdout",
     "output_type": "stream",
     "text": [
      "                tkdname  age sex  mmse   dx fold_0 fold_1 fold_2 fold_3 fold_4\n",
      "0    taukdial-002-1.wav   72   F    29   NC    val  train  train  train  train\n",
      "1    taukdial-002-2.wav   72   F    29   NC  train  train  train  train    val\n",
      "2    taukdial-002-3.wav   72   F    29   NC  train  train    val  train  train\n",
      "3    taukdial-003-1.wav   80   M    23  MCI    val  train  train  train  train\n",
      "4    taukdial-003-2.wav   80   M    23  MCI  train  train  train    val  train\n",
      "..                  ...  ...  ..   ...  ...    ...    ...    ...    ...    ...\n",
      "382  taukdial-167-2.wav   65   F    29   NC  train    val  train  train  train\n",
      "383  taukdial-167-3.wav   65   F    29   NC    val  train  train  train  train\n",
      "384  taukdial-169-1.wav   81   F    28  MCI  train  train  train  train    val\n",
      "385  taukdial-169-2.wav   81   F    28  MCI    val  train  train  train  train\n",
      "386  taukdial-169-3.wav   81   F    28  MCI  train  train  train  train    val\n",
      "\n",
      "[387 rows x 10 columns]\n"
     ]
    },
    {
     "name": "stderr",
     "output_type": "stream",
     "text": [
      "C:\\Users\\ngoth\\AppData\\Local\\Temp\\ipykernel_6800\\368582863.py:12: FutureWarning: ChainedAssignmentError: behaviour will change in pandas 3.0!\n",
      "You are setting values through chained assignment. Currently this works in certain cases, but when using Copy-on-Write (which will become the default behaviour in pandas 3.0) this will never work to update the original DataFrame or Series, because the intermediate object on which we are setting values will behave as a copy.\n",
      "A typical example is when you are setting values in a column of a DataFrame, like:\n",
      "\n",
      "df[\"col\"][row_indexer] = value\n",
      "\n",
      "Use `df.loc[row_indexer, \"col\"] = values` instead, to perform the assignment in a single step and ensure this keeps updating the original `df`.\n",
      "\n",
      "See the caveats in the documentation: https://pandas.pydata.org/pandas-docs/stable/user_guide/indexing.html#returning-a-view-versus-a-copy\n",
      "\n",
      "  df[f'fold_{i}'][train_index] = \"train\" # Assign 'train' to the train fold rows\n",
      "C:\\Users\\ngoth\\AppData\\Local\\Temp\\ipykernel_6800\\368582863.py:12: SettingWithCopyWarning: \n",
      "A value is trying to be set on a copy of a slice from a DataFrame\n",
      "\n",
      "See the caveats in the documentation: https://pandas.pydata.org/pandas-docs/stable/user_guide/indexing.html#returning-a-view-versus-a-copy\n",
      "  df[f'fold_{i}'][train_index] = \"train\" # Assign 'train' to the train fold rows\n",
      "C:\\Users\\ngoth\\AppData\\Local\\Temp\\ipykernel_6800\\368582863.py:13: SettingWithCopyWarning: \n",
      "A value is trying to be set on a copy of a slice from a DataFrame\n",
      "\n",
      "See the caveats in the documentation: https://pandas.pydata.org/pandas-docs/stable/user_guide/indexing.html#returning-a-view-versus-a-copy\n",
      "  df[f'fold_{i}'][test_index] = \"val\" # Assign 'val' to the validation fold rows\n",
      "C:\\Users\\ngoth\\AppData\\Local\\Temp\\ipykernel_6800\\368582863.py:12: FutureWarning: ChainedAssignmentError: behaviour will change in pandas 3.0!\n",
      "You are setting values through chained assignment. Currently this works in certain cases, but when using Copy-on-Write (which will become the default behaviour in pandas 3.0) this will never work to update the original DataFrame or Series, because the intermediate object on which we are setting values will behave as a copy.\n",
      "A typical example is when you are setting values in a column of a DataFrame, like:\n",
      "\n",
      "df[\"col\"][row_indexer] = value\n",
      "\n",
      "Use `df.loc[row_indexer, \"col\"] = values` instead, to perform the assignment in a single step and ensure this keeps updating the original `df`.\n",
      "\n",
      "See the caveats in the documentation: https://pandas.pydata.org/pandas-docs/stable/user_guide/indexing.html#returning-a-view-versus-a-copy\n",
      "\n",
      "  df[f'fold_{i}'][train_index] = \"train\" # Assign 'train' to the train fold rows\n",
      "C:\\Users\\ngoth\\AppData\\Local\\Temp\\ipykernel_6800\\368582863.py:12: SettingWithCopyWarning: \n",
      "A value is trying to be set on a copy of a slice from a DataFrame\n",
      "\n",
      "See the caveats in the documentation: https://pandas.pydata.org/pandas-docs/stable/user_guide/indexing.html#returning-a-view-versus-a-copy\n",
      "  df[f'fold_{i}'][train_index] = \"train\" # Assign 'train' to the train fold rows\n",
      "C:\\Users\\ngoth\\AppData\\Local\\Temp\\ipykernel_6800\\368582863.py:13: SettingWithCopyWarning: \n",
      "A value is trying to be set on a copy of a slice from a DataFrame\n",
      "\n",
      "See the caveats in the documentation: https://pandas.pydata.org/pandas-docs/stable/user_guide/indexing.html#returning-a-view-versus-a-copy\n",
      "  df[f'fold_{i}'][test_index] = \"val\" # Assign 'val' to the validation fold rows\n",
      "C:\\Users\\ngoth\\AppData\\Local\\Temp\\ipykernel_6800\\368582863.py:12: FutureWarning: ChainedAssignmentError: behaviour will change in pandas 3.0!\n",
      "You are setting values through chained assignment. Currently this works in certain cases, but when using Copy-on-Write (which will become the default behaviour in pandas 3.0) this will never work to update the original DataFrame or Series, because the intermediate object on which we are setting values will behave as a copy.\n",
      "A typical example is when you are setting values in a column of a DataFrame, like:\n",
      "\n",
      "df[\"col\"][row_indexer] = value\n",
      "\n",
      "Use `df.loc[row_indexer, \"col\"] = values` instead, to perform the assignment in a single step and ensure this keeps updating the original `df`.\n",
      "\n",
      "See the caveats in the documentation: https://pandas.pydata.org/pandas-docs/stable/user_guide/indexing.html#returning-a-view-versus-a-copy\n",
      "\n",
      "  df[f'fold_{i}'][train_index] = \"train\" # Assign 'train' to the train fold rows\n",
      "C:\\Users\\ngoth\\AppData\\Local\\Temp\\ipykernel_6800\\368582863.py:12: SettingWithCopyWarning: \n",
      "A value is trying to be set on a copy of a slice from a DataFrame\n",
      "\n",
      "See the caveats in the documentation: https://pandas.pydata.org/pandas-docs/stable/user_guide/indexing.html#returning-a-view-versus-a-copy\n",
      "  df[f'fold_{i}'][train_index] = \"train\" # Assign 'train' to the train fold rows\n",
      "C:\\Users\\ngoth\\AppData\\Local\\Temp\\ipykernel_6800\\368582863.py:13: SettingWithCopyWarning: \n",
      "A value is trying to be set on a copy of a slice from a DataFrame\n",
      "\n",
      "See the caveats in the documentation: https://pandas.pydata.org/pandas-docs/stable/user_guide/indexing.html#returning-a-view-versus-a-copy\n",
      "  df[f'fold_{i}'][test_index] = \"val\" # Assign 'val' to the validation fold rows\n",
      "C:\\Users\\ngoth\\AppData\\Local\\Temp\\ipykernel_6800\\368582863.py:12: FutureWarning: ChainedAssignmentError: behaviour will change in pandas 3.0!\n",
      "You are setting values through chained assignment. Currently this works in certain cases, but when using Copy-on-Write (which will become the default behaviour in pandas 3.0) this will never work to update the original DataFrame or Series, because the intermediate object on which we are setting values will behave as a copy.\n",
      "A typical example is when you are setting values in a column of a DataFrame, like:\n",
      "\n",
      "df[\"col\"][row_indexer] = value\n",
      "\n",
      "Use `df.loc[row_indexer, \"col\"] = values` instead, to perform the assignment in a single step and ensure this keeps updating the original `df`.\n",
      "\n",
      "See the caveats in the documentation: https://pandas.pydata.org/pandas-docs/stable/user_guide/indexing.html#returning-a-view-versus-a-copy\n",
      "\n",
      "  df[f'fold_{i}'][train_index] = \"train\" # Assign 'train' to the train fold rows\n",
      "C:\\Users\\ngoth\\AppData\\Local\\Temp\\ipykernel_6800\\368582863.py:12: SettingWithCopyWarning: \n",
      "A value is trying to be set on a copy of a slice from a DataFrame\n",
      "\n",
      "See the caveats in the documentation: https://pandas.pydata.org/pandas-docs/stable/user_guide/indexing.html#returning-a-view-versus-a-copy\n",
      "  df[f'fold_{i}'][train_index] = \"train\" # Assign 'train' to the train fold rows\n",
      "C:\\Users\\ngoth\\AppData\\Local\\Temp\\ipykernel_6800\\368582863.py:13: SettingWithCopyWarning: \n",
      "A value is trying to be set on a copy of a slice from a DataFrame\n",
      "\n",
      "See the caveats in the documentation: https://pandas.pydata.org/pandas-docs/stable/user_guide/indexing.html#returning-a-view-versus-a-copy\n",
      "  df[f'fold_{i}'][test_index] = \"val\" # Assign 'val' to the validation fold rows\n",
      "C:\\Users\\ngoth\\AppData\\Local\\Temp\\ipykernel_6800\\368582863.py:12: FutureWarning: ChainedAssignmentError: behaviour will change in pandas 3.0!\n",
      "You are setting values through chained assignment. Currently this works in certain cases, but when using Copy-on-Write (which will become the default behaviour in pandas 3.0) this will never work to update the original DataFrame or Series, because the intermediate object on which we are setting values will behave as a copy.\n",
      "A typical example is when you are setting values in a column of a DataFrame, like:\n",
      "\n",
      "df[\"col\"][row_indexer] = value\n",
      "\n",
      "Use `df.loc[row_indexer, \"col\"] = values` instead, to perform the assignment in a single step and ensure this keeps updating the original `df`.\n",
      "\n",
      "See the caveats in the documentation: https://pandas.pydata.org/pandas-docs/stable/user_guide/indexing.html#returning-a-view-versus-a-copy\n",
      "\n",
      "  df[f'fold_{i}'][train_index] = \"train\" # Assign 'train' to the train fold rows\n",
      "C:\\Users\\ngoth\\AppData\\Local\\Temp\\ipykernel_6800\\368582863.py:12: SettingWithCopyWarning: \n",
      "A value is trying to be set on a copy of a slice from a DataFrame\n",
      "\n",
      "See the caveats in the documentation: https://pandas.pydata.org/pandas-docs/stable/user_guide/indexing.html#returning-a-view-versus-a-copy\n",
      "  df[f'fold_{i}'][train_index] = \"train\" # Assign 'train' to the train fold rows\n",
      "C:\\Users\\ngoth\\AppData\\Local\\Temp\\ipykernel_6800\\368582863.py:13: SettingWithCopyWarning: \n",
      "A value is trying to be set on a copy of a slice from a DataFrame\n",
      "\n",
      "See the caveats in the documentation: https://pandas.pydata.org/pandas-docs/stable/user_guide/indexing.html#returning-a-view-versus-a-copy\n",
      "  df[f'fold_{i}'][test_index] = \"val\" # Assign 'val' to the validation fold rows\n"
     ]
    }
   ],
   "source": [
    "from sklearn.model_selection import KFold\n",
    "\n",
    "# Load your dataset\n",
    "# df = pd.read_csv('your_dataset.csv')\n",
    "\n",
    "# Initialize KFold with 5 splits\n",
    "kf = KFold(n_splits=5, shuffle=True, random_state=42)\n",
    "\n",
    "# Iterate through the folds\n",
    "for i, (train_index, test_index) in enumerate(kf.split(df)):\n",
    "    df[f'fold_{i}'] = ''   # Create a column with empty strings\n",
    "    df[f'fold_{i}'][train_index] = \"train\" # Assign 'train' to the train fold rows\n",
    "    df[f'fold_{i}'][test_index] = \"val\" # Assign 'val' to the validation fold rows\n",
    "\n",
    "# Print the first train and test splits\n",
    "print(df)"
   ]
  },
  {
   "cell_type": "code",
   "execution_count": 5,
   "metadata": {},
   "outputs": [
    {
     "name": "stdout",
     "output_type": "stream",
     "text": [
      "                tkdname  age sex  mmse   dx fold_0 fold_1 fold_2 fold_3 fold_4\n",
      "0    taukdial-002-2.wav   72   F    29   NC  train  train  train  train    val\n",
      "1    taukdial-002-3.wav   72   F    29   NC  train  train    val  train  train\n",
      "2    taukdial-003-2.wav   80   M    23  MCI  train  train  train    val  train\n",
      "3    taukdial-004-1.wav   71   M    29   NC  train    val  train  train  train\n",
      "4    taukdial-004-2.wav   71   M    29   NC  train    val  train  train  train\n",
      "..                  ...  ...  ..   ...  ...    ...    ...    ...    ...    ...\n",
      "304  taukdial-165-3.wav   69   F    29   NC  train  train  train  train    val\n",
      "305  taukdial-167-1.wav   65   F    29   NC  train    val  train  train  train\n",
      "306  taukdial-167-2.wav   65   F    29   NC  train    val  train  train  train\n",
      "307  taukdial-169-1.wav   81   F    28  MCI  train  train  train  train    val\n",
      "308  taukdial-169-3.wav   81   F    28  MCI  train  train  train  train    val\n",
      "\n",
      "[309 rows x 10 columns]\n",
      "               tkdname  age sex  mmse   dx fold_0 fold_1 fold_2 fold_3 fold_4\n",
      "0   taukdial-002-1.wav   72   F    29   NC    val  train  train  train  train\n",
      "1   taukdial-003-1.wav   80   M    23  MCI    val  train  train  train  train\n",
      "2   taukdial-003-3.wav   80   M    23  MCI    val  train  train  train  train\n",
      "3   taukdial-005-1.wav   68   F    29   NC    val  train  train  train  train\n",
      "4   taukdial-007-1.wav   84   F    29  MCI    val  train  train  train  train\n",
      "..                 ...  ...  ..   ...  ...    ...    ...    ...    ...    ...\n",
      "73  taukdial-159-2.wav   73   M    25   NC    val  train  train  train  train\n",
      "74  taukdial-159-3.wav   73   M    25   NC    val  train  train  train  train\n",
      "75  taukdial-165-1.wav   69   F    29   NC    val  train  train  train  train\n",
      "76  taukdial-167-3.wav   65   F    29   NC    val  train  train  train  train\n",
      "77  taukdial-169-2.wav   81   F    28  MCI    val  train  train  train  train\n",
      "\n",
      "[78 rows x 10 columns]\n"
     ]
    }
   ],
   "source": [
    "train_df_folds = {}\n",
    "val_df_folds = {}\n",
    "for i in range(5):\n",
    "    train_df_folds[i] = df[df[f'fold_{i}'] == 'train'].reset_index(drop=True) # Create a train dataframe with only the train rows\n",
    "    val_df_folds[i] = df[df[f'fold_{i}'] == 'val'].reset_index(drop=True) # Create a validation dataframe with only the val rows\n",
    "    \n",
    "print(train_df_folds[0])\n",
    "print(val_df_folds[0])"
   ]
  },
  {
   "cell_type": "code",
   "execution_count": 6,
   "metadata": {},
   "outputs": [],
   "source": [
    "fold = 0"
   ]
  },
  {
   "cell_type": "code",
   "execution_count": 7,
   "metadata": {},
   "outputs": [
    {
     "data": {
      "text/plain": [
       "tkdname    taukdial-004-1.wav\n",
       "dx                         NC\n",
       "Name: 3, dtype: object"
      ]
     },
     "execution_count": 7,
     "metadata": {},
     "output_type": "execute_result"
    }
   ],
   "source": [
    "example = train_df_folds[fold].loc[3, [\"tkdname\", \"dx\"]]\n",
    "example"
   ]
  },
  {
   "cell_type": "code",
   "execution_count": 8,
   "metadata": {},
   "outputs": [
    {
     "name": "stderr",
     "output_type": "stream",
     "text": [
      "c:\\Users\\ngoth\\miniconda3\\envs\\pyml-book\\Lib\\site-packages\\gradio\\processing_utils.py:738: UserWarning: Trying to convert audio automatically from float32 to 16-bit int format.\n",
      "  warnings.warn(warning.format(data.dtype))\n"
     ]
    },
    {
     "name": "stdout",
     "output_type": "stream",
     "text": [
      "sampling rate: 48000\n",
      "array: [0.00067139 0.00054932 0.00039673 ... 0.00027466 0.0002594  0.00016785]\n",
      "length: 1436046\n",
      "new array: [0.00040303 0.00035495 0.00014909 ... 0.00102396 0.00049461 0.00026659]\n",
      "new length: 478682\n",
      "new sampling rate: 16000\n",
      "* Running on local URL:  http://127.0.0.1:7860\n",
      "\n",
      "To create a public link, set `share=True` in `launch()`.\n"
     ]
    },
    {
     "data": {
      "text/html": [
       "<div><iframe src=\"http://127.0.0.1:7860/\" width=\"100%\" height=\"500\" allow=\"autoplay; camera; microphone; clipboard-read; clipboard-write;\" frameborder=\"0\" allowfullscreen></iframe></div>"
      ],
      "text/plain": [
       "<IPython.core.display.HTML object>"
      ]
     },
     "metadata": {},
     "output_type": "display_data"
    },
    {
     "name": "stdout",
     "output_type": "stream",
     "text": [
      "Keyboard interruption in main thread... closing server.\n"
     ]
    },
    {
     "data": {
      "text/plain": []
     },
     "execution_count": 8,
     "metadata": {},
     "output_type": "execute_result"
    }
   ],
   "source": [
    "import gradio as gr\n",
    "import scipy.io.wavfile as wavfile\n",
    "#from scipy.signal import resample\n",
    "from librosa import  resample, load\n",
    "\n",
    "\"\"\" def resample_audio(array, sampling_rate):\n",
    "    num_samples = int(len(array) * float(16000) / sampling_rate)\n",
    "    array = resample(array, num_samples)\n",
    "    sampling_rate = 16000\n",
    "    return array, sampling_rate \"\"\"\n",
    "\n",
    "def generate_audio():\n",
    "    example = train_df_folds[fold].loc[2, [\"tkdname\", \"dx\"]].to_dict()\n",
    "    array, sampling_rate = load(os.path.join(dir, example[\"tkdname\"]), sr=None)\n",
    "    print('sampling rate:', sampling_rate)\n",
    "    print('array:', array)\n",
    "    print('length:', len(array))\n",
    "    if sampling_rate != 16000:\n",
    "        array = resample(array, orig_sr=sampling_rate, target_sr=16000)\n",
    "        sampling_rate = 16000\n",
    "        print('new array:', array)\n",
    "        print('new length:', len(array))  \n",
    "        print('new sampling rate:', sampling_rate)\n",
    "      \n",
    "    return (\n",
    "        sampling_rate,\n",
    "        array,\n",
    "    ), example[\"dx\"]\n",
    "\n",
    "\n",
    "with gr.Blocks() as demo:\n",
    "    with gr.Column():\n",
    "        for _ in range(1):\n",
    "            audio, label = generate_audio()\n",
    "            output = gr.Audio(audio, label=label)\n",
    "\n",
    "demo.launch(debug=True)"
   ]
  },
  {
   "cell_type": "code",
   "execution_count": 9,
   "metadata": {},
   "outputs": [],
   "source": [
    "from transformers import AutoFeatureExtractor"
   ]
  },
  {
   "cell_type": "code",
   "execution_count": 52,
   "metadata": {},
   "outputs": [],
   "source": [
    "model_id = \"ntu-spml/distilhubert\"\n",
    "feature_extractor = AutoFeatureExtractor.from_pretrained(model_id, do_normalize=True, return_attention_mask=True)"
   ]
  },
  {
   "cell_type": "code",
   "execution_count": 11,
   "metadata": {},
   "outputs": [
    {
     "data": {
      "text/plain": [
       "16000"
      ]
     },
     "execution_count": 11,
     "metadata": {},
     "output_type": "execute_result"
    }
   ],
   "source": [
    "sampling_rate = feature_extractor.sampling_rate\n",
    "sampling_rate"
   ]
  },
  {
   "cell_type": "code",
   "execution_count": 12,
   "metadata": {},
   "outputs": [
    {
     "name": "stdout",
     "output_type": "stream",
     "text": [
      "label2id: {'NC': 0, 'MCI': 1}\n",
      "id2label: {0: 'NC', 1: 'MCI'}\n"
     ]
    }
   ],
   "source": [
    "label2id = {label: i for i, label in enumerate(train_df_folds[0][\"dx\"].unique())}\n",
    "id2label = {i: label for label, i in label2id.items()}\n",
    "print(f'label2id: {label2id}')\n",
    "print(f'id2label: {id2label}')"
   ]
  },
  {
   "cell_type": "code",
   "execution_count": 13,
   "metadata": {},
   "outputs": [],
   "source": [
    "max_duration = 30.0"
   ]
  },
  {
   "cell_type": "code",
   "execution_count": 64,
   "metadata": {},
   "outputs": [],
   "source": [
    "import test\n",
    "import torch\n",
    "from torch.utils.data import Dataset\n",
    "\n",
    "class AudioDataset(Dataset):\n",
    "    def __init__(self, data, labels, dir):\n",
    "        \"\"\"\n",
    "        Args:\n",
    "            data (array-like): The input data.\n",
    "            labels (array-like): The labels corresponding to the data.\n",
    "        \"\"\"\n",
    "        self.data = data\n",
    "        self.labels = labels\n",
    "        self.dir = dir\n",
    "\n",
    "    def __len__(self):\n",
    "        return len(self.data)\n",
    "\n",
    "    def __getitem__(self, idx):\n",
    "        array, sampling_rate =  load(os.path.join(self.dir, self.data[idx]), sr=None)\n",
    "        #print('sampling rate:', sampling_rate)\n",
    "        if sampling_rate != 16000:\n",
    "            array = resample(array, orig_sr=sampling_rate, target_sr=16000)\n",
    "            sampling_rate = 16000\n",
    "        inputs = feature_extractor(\n",
    "            array,\n",
    "            sampling_rate=sampling_rate,\n",
    "            max_length=int(feature_extractor.sampling_rate * max_duration),\n",
    "            truncation=True,\n",
    "            padding=\"max_length\",\n",
    "            return_attention_mask=True,\n",
    "        )\n",
    "        label = label2id[self.labels[idx]]\n",
    "        return inputs, label\n",
    "\n",
    "# Example usage:\n",
    "train_data = train_df_folds[fold][\"tkdname\"] # Load your data here\n",
    "train_labels = train_df_folds[fold][\"dx\"] # Load your labels here\n",
    "train_dataset = AudioDataset(train_data, train_labels, dir)\n",
    "train_dataset_dataloader = torch.utils.data.DataLoader(train_dataset, batch_size=4, shuffle=True)\n",
    "\n",
    "val_data = val_df_folds[fold][\"tkdname\"] # Load your data here\n",
    "val_labels = val_df_folds[fold][\"dx\"] # Load your labels here\n",
    "val_dataset = AudioDataset(val_data, val_labels, dir)\n",
    "val_dataset_dataloader = torch.utils.data.DataLoader(val_dataset, batch_size=4, shuffle=False)\n",
    "\n",
    "test_data = test_df[\"tkdname\"] # Load your data here\n",
    "test_labels = test_df[\"dx\"] # Load your labels here\n",
    "test_dataset = AudioDataset(test_data, test_labels, test_dir)\n",
    "test_dataset_dataloader = torch.utils.data.DataLoader(test_dataset, batch_size=4, shuffle=False)"
   ]
  },
  {
   "cell_type": "code",
   "execution_count": 15,
   "metadata": {},
   "outputs": [
    {
     "data": {
      "text/plain": [
       "array([0.00447587, 0.00481083, 0.00458684, ..., 0.        , 0.        ,\n",
       "       0.        ], dtype=float32)"
      ]
     },
     "execution_count": 15,
     "metadata": {},
     "output_type": "execute_result"
    }
   ],
   "source": [
    "train_dataset[3][0]['input_values'][0]"
   ]
  },
  {
   "cell_type": "code",
   "execution_count": 16,
   "metadata": {},
   "outputs": [
    {
     "name": "stdout",
     "output_type": "stream",
     "text": [
      "480000\n"
     ]
    }
   ],
   "source": [
    "print(train_dataset[2][0]['input_values'][0].size)"
   ]
  },
  {
   "cell_type": "code",
   "execution_count": 17,
   "metadata": {},
   "outputs": [
    {
     "name": "stdout",
     "output_type": "stream",
     "text": [
      "309\n"
     ]
    }
   ],
   "source": [
    "print(len(train_dataset))"
   ]
  },
  {
   "cell_type": "code",
   "execution_count": 18,
   "metadata": {},
   "outputs": [
    {
     "name": "stdout",
     "output_type": "stream",
     "text": [
      "[{'input_values': [tensor([[ 0.1026,  0.1496,  0.1096,  ...,  0.0205,  0.0212,  0.0168],\n",
      "        [ 0.2292,  0.5748, -0.5737,  ...,  0.4439,  0.5042,  0.5445],\n",
      "        [-0.0066, -0.0095, -0.0111,  ..., -0.0579, -0.0346, -0.0399],\n",
      "        [-0.0315, -0.0364, -0.0410,  ..., -1.2593, -1.0245, -0.7726]])], 'attention_mask': [tensor([[1, 1, 1,  ..., 1, 1, 1],\n",
      "        [1, 1, 1,  ..., 1, 1, 1],\n",
      "        [1, 1, 1,  ..., 1, 1, 1],\n",
      "        [1, 1, 1,  ..., 1, 1, 1]], dtype=torch.int32)]}, tensor([1, 0, 0, 0])]\n"
     ]
    }
   ],
   "source": [
    "print(next(iter(train_dataset_dataloader)))"
   ]
  },
  {
   "cell_type": "code",
   "execution_count": 19,
   "metadata": {},
   "outputs": [
    {
     "name": "stdout",
     "output_type": "stream",
     "text": [
      "input_values: [tensor([[ 1.4922e-03,  2.0539e-03,  1.5181e-03,  ..., -1.3492e-01,\n",
      "         -1.0130e-01, -6.7127e-02],\n",
      "        [ 2.2470e-01,  2.7941e-01,  2.8651e-01,  ...,  4.5312e-01,\n",
      "          4.3410e-01,  3.6809e-01],\n",
      "        [-4.6284e-04,  3.4564e-03,  6.8218e-04,  ..., -5.0862e-01,\n",
      "         -3.4121e-01, -1.8427e-01],\n",
      "        [ 1.9288e-02,  4.2153e-03, -2.3380e-02,  ..., -8.3055e-01,\n",
      "         -6.5349e-01, -3.9795e-01]])]\n",
      "attention_mask: [tensor([[1, 1, 1,  ..., 1, 1, 1],\n",
      "        [1, 1, 1,  ..., 1, 1, 1],\n",
      "        [1, 1, 1,  ..., 1, 1, 1],\n",
      "        [1, 1, 1,  ..., 1, 1, 1]], dtype=torch.int32)]\n",
      "labels: tensor([0, 1, 0, 1])\n"
     ]
    }
   ],
   "source": [
    "sample_batch = next(iter(train_dataset_dataloader))\n",
    "data = sample_batch[0]\n",
    "labels = sample_batch[1]\n",
    "for k, v in data.items():\n",
    "    print(f\"{k}: {v}\")\n",
    "print(f\"labels: {labels}\")"
   ]
  },
  {
   "cell_type": "code",
   "execution_count": 20,
   "metadata": {},
   "outputs": [
    {
     "data": {
      "text/plain": [
       "({'input_values': [array([0.02416616, 0.02654372, 0.02492273, ..., 0.24295852, 0.22072643,\n",
       "        0.28682953], dtype=float32)], 'attention_mask': [array([1, 1, 1, ..., 1, 1, 1])]},\n",
       " 0)"
      ]
     },
     "execution_count": 20,
     "metadata": {},
     "output_type": "execute_result"
    }
   ],
   "source": [
    "val_dataset[0]"
   ]
  },
  {
   "cell_type": "code",
   "execution_count": 21,
   "metadata": {},
   "outputs": [
    {
     "name": "stdout",
     "output_type": "stream",
     "text": [
      "78\n"
     ]
    }
   ],
   "source": [
    "print(len(val_dataset))"
   ]
  },
  {
   "cell_type": "code",
   "execution_count": 22,
   "metadata": {},
   "outputs": [
    {
     "name": "stdout",
     "output_type": "stream",
     "text": [
      "[{'input_values': [tensor([[ 2.4166e-02,  2.6544e-02,  2.4923e-02,  ...,  2.4296e-01,\n",
      "          2.2073e-01,  2.8683e-01],\n",
      "        [ 2.9624e-02,  5.7914e-02,  5.7679e-02,  ...,  0.0000e+00,\n",
      "          0.0000e+00,  0.0000e+00],\n",
      "        [-1.3669e-03, -3.7927e-02, -6.5500e-02,  ...,  2.5647e+00,\n",
      "          2.5633e+00,  2.3444e+00],\n",
      "        [-7.6937e-04,  2.6866e-04, -2.3887e-04,  ...,  5.3150e-03,\n",
      "          1.0018e-02,  1.4771e-02]])], 'attention_mask': [tensor([[1, 1, 1,  ..., 1, 1, 1],\n",
      "        [1, 1, 1,  ..., 0, 0, 0],\n",
      "        [1, 1, 1,  ..., 1, 1, 1],\n",
      "        [1, 1, 1,  ..., 1, 1, 1]], dtype=torch.int32)]}, tensor([0, 1, 1, 0])]\n"
     ]
    }
   ],
   "source": [
    "print(next(iter(val_dataset_dataloader)))"
   ]
  },
  {
   "cell_type": "code",
   "execution_count": 23,
   "metadata": {},
   "outputs": [
    {
     "name": "stdout",
     "output_type": "stream",
     "text": [
      "Mean: 4.24e-09, Variance: 1.0\n"
     ]
    }
   ],
   "source": [
    "import numpy as np\n",
    "sample = train_dataset[0]\n",
    "print(f'Mean: {np.mean(sample[0][\"input_values\"]):.3}, Variance: {np.var(sample[0][\"input_values\"]):.3}')"
   ]
  },
  {
   "cell_type": "code",
   "execution_count": 24,
   "metadata": {},
   "outputs": [],
   "source": [
    "from transformers import AutoModelForAudioClassification"
   ]
  },
  {
   "cell_type": "code",
   "execution_count": 25,
   "metadata": {},
   "outputs": [
    {
     "data": {
      "text/plain": [
       "2"
      ]
     },
     "execution_count": 25,
     "metadata": {},
     "output_type": "execute_result"
    }
   ],
   "source": [
    "num_labels = len(id2label)\n",
    "num_labels"
   ]
  },
  {
   "cell_type": "code",
   "execution_count": 26,
   "metadata": {},
   "outputs": [
    {
     "name": "stderr",
     "output_type": "stream",
     "text": [
      "Some weights of HubertForSequenceClassification were not initialized from the model checkpoint at ntu-spml/distilhubert and are newly initialized: ['classifier.bias', 'classifier.weight', 'projector.bias', 'projector.weight']\n",
      "You should probably TRAIN this model on a down-stream task to be able to use it for predictions and inference.\n"
     ]
    }
   ],
   "source": [
    "model = AutoModelForAudioClassification.from_pretrained(\n",
    "    model_id,\n",
    "    num_labels=num_labels,\n",
    "    label2id = label2id,\n",
    "    id2label = id2label\n",
    ")"
   ]
  },
  {
   "cell_type": "code",
   "execution_count": 27,
   "metadata": {},
   "outputs": [
    {
     "data": {
      "application/vnd.jupyter.widget-view+json": {
       "model_id": "3f1a6ef209924f7684a31f9d11d1663d",
       "version_major": 2,
       "version_minor": 0
      },
      "text/plain": [
       "VBox(children=(HTML(value='<center> <img\\nsrc=https://huggingface.co/front/assets/huggingface_logo-noborder.sv…"
      ]
     },
     "metadata": {},
     "output_type": "display_data"
    }
   ],
   "source": [
    "from huggingface_hub import notebook_login\n",
    "\n",
    "notebook_login()"
   ]
  },
  {
   "cell_type": "code",
   "execution_count": 28,
   "metadata": {},
   "outputs": [
    {
     "name": "stderr",
     "output_type": "stream",
     "text": [
      "c:\\Users\\ngoth\\miniconda3\\envs\\pyml-book\\Lib\\site-packages\\transformers\\training_args.py:1575: FutureWarning: `evaluation_strategy` is deprecated and will be removed in version 4.46 of 🤗 Transformers. Use `eval_strategy` instead\n",
      "  warnings.warn(\n"
     ]
    }
   ],
   "source": [
    "from transformers import TrainingArguments\n",
    "\n",
    "model_name = model_id.split(\"/\")[-1]\n",
    "batch_size = 8\n",
    "gradient_accumulation_steps = 1\n",
    "num_train_epochs = 10\n",
    "\n",
    "training_args = TrainingArguments(\n",
    "    f\"{model_name}-finetuned-taukadial\",\n",
    "    evaluation_strategy=\"epoch\",\n",
    "    save_strategy=\"epoch\",\n",
    "    learning_rate=5e-5,\n",
    "    per_device_train_batch_size=batch_size,\n",
    "    gradient_accumulation_steps=gradient_accumulation_steps,\n",
    "    per_device_eval_batch_size=batch_size,\n",
    "    num_train_epochs=num_train_epochs,\n",
    "    warmup_ratio=0.1,\n",
    "    logging_steps=5,\n",
    "    load_best_model_at_end=True,\n",
    "    metric_for_best_model=\"accuracy\",\n",
    "    fp16=True,\n",
    "    push_to_hub=True,\n",
    ")"
   ]
  },
  {
   "cell_type": "code",
   "execution_count": 29,
   "metadata": {},
   "outputs": [],
   "source": [
    "import evaluate\n",
    "import numpy as np\n",
    "\n",
    "metric = evaluate.load(\"accuracy\")\n",
    "\n",
    "\n",
    "def compute_metrics(eval_pred):\n",
    "    \"\"\"Computes accuracy on a batch of predictions\"\"\"\n",
    "    predictions = np.argmax(eval_pred.predictions, axis=1)\n",
    "    return metric.compute(predictions=predictions, references=eval_pred.label_ids)"
   ]
  },
  {
   "cell_type": "code",
   "execution_count": 30,
   "metadata": {},
   "outputs": [
    {
     "data": {
      "text/plain": [
       "True"
      ]
     },
     "execution_count": 30,
     "metadata": {},
     "output_type": "execute_result"
    }
   ],
   "source": [
    "import torch\n",
    "torch.cuda.is_available()"
   ]
  },
  {
   "cell_type": "code",
   "execution_count": 31,
   "metadata": {},
   "outputs": [
    {
     "data": {
      "text/plain": [
       "device(type='cuda')"
      ]
     },
     "execution_count": 31,
     "metadata": {},
     "output_type": "execute_result"
    }
   ],
   "source": [
    "device = torch.device(\"cuda\" if torch.cuda.is_available() else \"cpu\")\n",
    "device"
   ]
  },
  {
   "cell_type": "code",
   "execution_count": 32,
   "metadata": {},
   "outputs": [],
   "source": [
    "# Helper function to check GPU memory usage\n",
    "def print_gpu_memory():\n",
    "    print(f\"Allocated memory: {torch.cuda.memory_allocated() / 1024**2:.2f} MB\")\n",
    "    print(f\"Cached memory: {torch.cuda.memory_reserved() / 1024**2:.2f} MB\")"
   ]
  },
  {
   "cell_type": "code",
   "execution_count": 33,
   "metadata": {},
   "outputs": [
    {
     "name": "stdout",
     "output_type": "stream",
     "text": [
      "Allocated memory: 0.00 MB\n",
      "Cached memory: 0.00 MB\n"
     ]
    }
   ],
   "source": [
    "print_gpu_memory()"
   ]
  },
  {
   "cell_type": "code",
   "execution_count": 34,
   "metadata": {},
   "outputs": [],
   "source": [
    "torch.cuda.empty_cache()"
   ]
  },
  {
   "cell_type": "code",
   "execution_count": 35,
   "metadata": {},
   "outputs": [
    {
     "name": "stdout",
     "output_type": "stream",
     "text": [
      "Allocated memory: 0.00 MB\n",
      "Cached memory: 0.00 MB\n"
     ]
    }
   ],
   "source": [
    "print_gpu_memory()"
   ]
  },
  {
   "cell_type": "code",
   "execution_count": 36,
   "metadata": {},
   "outputs": [
    {
     "name": "stdout",
     "output_type": "stream",
     "text": [
      "\n",
      "After deleting references:\n",
      "Allocated memory: 0.00 MB\n",
      "Cached memory: 0.00 MB\n"
     ]
    }
   ],
   "source": [
    "# Step 2: Delete the references to these objects\n",
    "#del model\n",
    "#del optimizer\n",
    "#del tensor\n",
    "\n",
    "print(\"\\nAfter deleting references:\")\n",
    "print_gpu_memory()"
   ]
  },
  {
   "cell_type": "code",
   "execution_count": 37,
   "metadata": {},
   "outputs": [],
   "source": [
    "import torch\n",
    "import torch.nn as nn\n",
    "import torch.optim as optim\n",
    "from torch.utils.data import DataLoader\n",
    "from tqdm import tqdm\n",
    "from datasets import load_metric"
   ]
  },
  {
   "cell_type": "code",
   "execution_count": null,
   "metadata": {},
   "outputs": [
    {
     "name": "stderr",
     "output_type": "stream",
     "text": [
      "C:\\Users\\ngoth\\AppData\\Local\\Temp\\ipykernel_6800\\3942667165.py:19: FutureWarning: load_metric is deprecated and will be removed in the next major version of datasets. Use 'evaluate.load' instead, from the new library 🤗 Evaluate: https://huggingface.co/docs/evaluate\n",
      "  accuracy_metric = load_metric(\"accuracy\")\n",
      "c:\\Users\\ngoth\\miniconda3\\envs\\pyml-book\\Lib\\site-packages\\datasets\\load.py:759: FutureWarning: The repository for accuracy contains custom code which must be executed to correctly load the metric. You can inspect the repository content at https://raw.githubusercontent.com/huggingface/datasets/2.19.1/metrics/accuracy/accuracy.py\n",
      "You can avoid this message in future by passing the argument `trust_remote_code=True`.\n",
      "Passing `trust_remote_code=True` will be mandatory to load this metric from the next major release of `datasets`.\n",
      "  warnings.warn(\n",
      "Epoch 1: 100%|██████████| 78/78 [09:26<00:00,  7.27s/batch, loss=0.705]\n"
     ]
    },
    {
     "name": "stdout",
     "output_type": "stream",
     "text": [
      "Epoch 1 Training Loss: 0.6619, Training Accuracy: 58.25%\n"
     ]
    },
    {
     "name": "stderr",
     "output_type": "stream",
     "text": [
      "c:\\Users\\ngoth\\miniconda3\\envs\\pyml-book\\Lib\\site-packages\\datasets\\load.py:759: FutureWarning: The repository for accuracy contains custom code which must be executed to correctly load the metric. You can inspect the repository content at https://raw.githubusercontent.com/huggingface/datasets/2.19.1/metrics/accuracy/accuracy.py\n",
      "You can avoid this message in future by passing the argument `trust_remote_code=True`.\n",
      "Passing `trust_remote_code=True` will be mandatory to load this metric from the next major release of `datasets`.\n",
      "  warnings.warn(\n",
      "Validation Epoch 1: 100%|██████████| 20/20 [00:43<00:00,  2.17s/batch, loss=0.606]\n"
     ]
    },
    {
     "name": "stdout",
     "output_type": "stream",
     "text": [
      "Best model found with validation accuracy: 67.95%\n",
      "Epoch 1 Validation Loss: 0.6380, Validation Accuracy: 67.95%\n"
     ]
    },
    {
     "name": "stderr",
     "output_type": "stream",
     "text": [
      "Epoch 2: 100%|██████████| 78/78 [09:21<00:00,  7.20s/batch, loss=0.605]\n",
      "c:\\Users\\ngoth\\miniconda3\\envs\\pyml-book\\Lib\\site-packages\\datasets\\load.py:759: FutureWarning: The repository for accuracy contains custom code which must be executed to correctly load the metric. You can inspect the repository content at https://raw.githubusercontent.com/huggingface/datasets/2.19.1/metrics/accuracy/accuracy.py\n",
      "You can avoid this message in future by passing the argument `trust_remote_code=True`.\n",
      "Passing `trust_remote_code=True` will be mandatory to load this metric from the next major release of `datasets`.\n",
      "  warnings.warn(\n"
     ]
    },
    {
     "name": "stdout",
     "output_type": "stream",
     "text": [
      "Epoch 2 Training Loss: 0.6008, Training Accuracy: 67.96%\n"
     ]
    },
    {
     "name": "stderr",
     "output_type": "stream",
     "text": [
      "Validation Epoch 2: 100%|██████████| 20/20 [00:43<00:00,  2.17s/batch, loss=0.455]\n"
     ]
    },
    {
     "name": "stdout",
     "output_type": "stream",
     "text": [
      "Epoch 2 Validation Loss: 0.6151, Validation Accuracy: 62.82%\n"
     ]
    },
    {
     "name": "stderr",
     "output_type": "stream",
     "text": [
      "Epoch 3: 100%|██████████| 78/78 [09:17<00:00,  7.15s/batch, loss=0.352]\n",
      "c:\\Users\\ngoth\\miniconda3\\envs\\pyml-book\\Lib\\site-packages\\datasets\\load.py:759: FutureWarning: The repository for accuracy contains custom code which must be executed to correctly load the metric. You can inspect the repository content at https://raw.githubusercontent.com/huggingface/datasets/2.19.1/metrics/accuracy/accuracy.py\n",
      "You can avoid this message in future by passing the argument `trust_remote_code=True`.\n",
      "Passing `trust_remote_code=True` will be mandatory to load this metric from the next major release of `datasets`.\n",
      "  warnings.warn(\n"
     ]
    },
    {
     "name": "stdout",
     "output_type": "stream",
     "text": [
      "Epoch 3 Training Loss: 0.4874, Training Accuracy: 75.73%\n"
     ]
    },
    {
     "name": "stderr",
     "output_type": "stream",
     "text": [
      "Validation Epoch 3: 100%|██████████| 20/20 [00:43<00:00,  2.16s/batch, loss=0.225]\n"
     ]
    },
    {
     "name": "stdout",
     "output_type": "stream",
     "text": [
      "Epoch 3 Validation Loss: 0.5701, Validation Accuracy: 58.97%\n"
     ]
    },
    {
     "name": "stderr",
     "output_type": "stream",
     "text": [
      "Epoch 4: 100%|██████████| 78/78 [09:38<00:00,  7.42s/batch, loss=0.0646]\n",
      "c:\\Users\\ngoth\\miniconda3\\envs\\pyml-book\\Lib\\site-packages\\datasets\\load.py:759: FutureWarning: The repository for accuracy contains custom code which must be executed to correctly load the metric. You can inspect the repository content at https://raw.githubusercontent.com/huggingface/datasets/2.19.1/metrics/accuracy/accuracy.py\n",
      "You can avoid this message in future by passing the argument `trust_remote_code=True`.\n",
      "Passing `trust_remote_code=True` will be mandatory to load this metric from the next major release of `datasets`.\n",
      "  warnings.warn(\n"
     ]
    },
    {
     "name": "stdout",
     "output_type": "stream",
     "text": [
      "Epoch 4 Training Loss: 0.3891, Training Accuracy: 83.50%\n"
     ]
    },
    {
     "name": "stderr",
     "output_type": "stream",
     "text": [
      "Validation Epoch 4: 100%|██████████| 20/20 [00:49<00:00,  2.46s/batch, loss=0.155]\n"
     ]
    },
    {
     "name": "stdout",
     "output_type": "stream",
     "text": [
      "Best model found with validation accuracy: 75.64%\n",
      "Epoch 4 Validation Loss: 0.4977, Validation Accuracy: 75.64%\n"
     ]
    },
    {
     "name": "stderr",
     "output_type": "stream",
     "text": [
      "Epoch 5: 100%|██████████| 78/78 [09:50<00:00,  7.57s/batch, loss=0.0139]\n",
      "c:\\Users\\ngoth\\miniconda3\\envs\\pyml-book\\Lib\\site-packages\\datasets\\load.py:759: FutureWarning: The repository for accuracy contains custom code which must be executed to correctly load the metric. You can inspect the repository content at https://raw.githubusercontent.com/huggingface/datasets/2.19.1/metrics/accuracy/accuracy.py\n",
      "You can avoid this message in future by passing the argument `trust_remote_code=True`.\n",
      "Passing `trust_remote_code=True` will be mandatory to load this metric from the next major release of `datasets`.\n",
      "  warnings.warn(\n"
     ]
    },
    {
     "name": "stdout",
     "output_type": "stream",
     "text": [
      "Epoch 5 Training Loss: 0.2588, Training Accuracy: 90.29%\n"
     ]
    },
    {
     "name": "stderr",
     "output_type": "stream",
     "text": [
      "Validation Epoch 5: 100%|██████████| 20/20 [00:49<00:00,  2.50s/batch, loss=0.0511]\n"
     ]
    },
    {
     "name": "stdout",
     "output_type": "stream",
     "text": [
      "Best model found with validation accuracy: 83.33%\n",
      "Epoch 5 Validation Loss: 0.4539, Validation Accuracy: 83.33%\n"
     ]
    },
    {
     "name": "stderr",
     "output_type": "stream",
     "text": [
      "Epoch 6: 100%|██████████| 78/78 [10:10<00:00,  7.83s/batch, loss=0.00798]\n"
     ]
    },
    {
     "name": "stdout",
     "output_type": "stream",
     "text": [
      "Epoch 6 Training Loss: 0.1848, Training Accuracy: 92.23%\n"
     ]
    },
    {
     "name": "stderr",
     "output_type": "stream",
     "text": [
      "c:\\Users\\ngoth\\miniconda3\\envs\\pyml-book\\Lib\\site-packages\\datasets\\load.py:759: FutureWarning: The repository for accuracy contains custom code which must be executed to correctly load the metric. You can inspect the repository content at https://raw.githubusercontent.com/huggingface/datasets/2.19.1/metrics/accuracy/accuracy.py\n",
      "You can avoid this message in future by passing the argument `trust_remote_code=True`.\n",
      "Passing `trust_remote_code=True` will be mandatory to load this metric from the next major release of `datasets`.\n",
      "  warnings.warn(\n",
      "Validation Epoch 6: 100%|██████████| 20/20 [00:48<00:00,  2.45s/batch, loss=0.00672]\n"
     ]
    },
    {
     "name": "stdout",
     "output_type": "stream",
     "text": [
      "Best model found with validation accuracy: 85.90%\n",
      "Epoch 6 Validation Loss: 0.4468, Validation Accuracy: 85.90%\n"
     ]
    },
    {
     "name": "stderr",
     "output_type": "stream",
     "text": [
      "Epoch 7: 100%|██████████| 78/78 [09:48<00:00,  7.54s/batch, loss=0.124]  \n",
      "c:\\Users\\ngoth\\miniconda3\\envs\\pyml-book\\Lib\\site-packages\\datasets\\load.py:759: FutureWarning: The repository for accuracy contains custom code which must be executed to correctly load the metric. You can inspect the repository content at https://raw.githubusercontent.com/huggingface/datasets/2.19.1/metrics/accuracy/accuracy.py\n",
      "You can avoid this message in future by passing the argument `trust_remote_code=True`.\n",
      "Passing `trust_remote_code=True` will be mandatory to load this metric from the next major release of `datasets`.\n",
      "  warnings.warn(\n"
     ]
    },
    {
     "name": "stdout",
     "output_type": "stream",
     "text": [
      "Epoch 7 Training Loss: 0.1382, Training Accuracy: 94.50%\n"
     ]
    },
    {
     "name": "stderr",
     "output_type": "stream",
     "text": [
      "Validation Epoch 7: 100%|██████████| 20/20 [00:49<00:00,  2.46s/batch, loss=0.00836]\n"
     ]
    },
    {
     "name": "stdout",
     "output_type": "stream",
     "text": [
      "Epoch 7 Validation Loss: 0.4487, Validation Accuracy: 78.21%\n"
     ]
    },
    {
     "name": "stderr",
     "output_type": "stream",
     "text": [
      "Epoch 8: 100%|██████████| 78/78 [10:05<00:00,  7.76s/batch, loss=0.00416]\n"
     ]
    },
    {
     "name": "stdout",
     "output_type": "stream",
     "text": [
      "Epoch 8 Training Loss: 0.0742, Training Accuracy: 98.38%\n"
     ]
    },
    {
     "name": "stderr",
     "output_type": "stream",
     "text": [
      "c:\\Users\\ngoth\\miniconda3\\envs\\pyml-book\\Lib\\site-packages\\datasets\\load.py:759: FutureWarning: The repository for accuracy contains custom code which must be executed to correctly load the metric. You can inspect the repository content at https://raw.githubusercontent.com/huggingface/datasets/2.19.1/metrics/accuracy/accuracy.py\n",
      "You can avoid this message in future by passing the argument `trust_remote_code=True`.\n",
      "Passing `trust_remote_code=True` will be mandatory to load this metric from the next major release of `datasets`.\n",
      "  warnings.warn(\n",
      "Validation Epoch 8: 100%|██████████| 20/20 [00:49<00:00,  2.46s/batch, loss=0.0118] \n"
     ]
    },
    {
     "name": "stdout",
     "output_type": "stream",
     "text": [
      "Best model found with validation accuracy: 88.46%\n",
      "Epoch 8 Validation Loss: 0.4040, Validation Accuracy: 88.46%\n"
     ]
    },
    {
     "name": "stderr",
     "output_type": "stream",
     "text": [
      "Epoch 9: 100%|██████████| 78/78 [09:46<00:00,  7.52s/batch, loss=0.00113] \n"
     ]
    },
    {
     "name": "stdout",
     "output_type": "stream",
     "text": [
      "Epoch 9 Training Loss: 0.0067, Training Accuracy: 100.00%\n"
     ]
    },
    {
     "name": "stderr",
     "output_type": "stream",
     "text": [
      "c:\\Users\\ngoth\\miniconda3\\envs\\pyml-book\\Lib\\site-packages\\datasets\\load.py:759: FutureWarning: The repository for accuracy contains custom code which must be executed to correctly load the metric. You can inspect the repository content at https://raw.githubusercontent.com/huggingface/datasets/2.19.1/metrics/accuracy/accuracy.py\n",
      "You can avoid this message in future by passing the argument `trust_remote_code=True`.\n",
      "Passing `trust_remote_code=True` will be mandatory to load this metric from the next major release of `datasets`.\n",
      "  warnings.warn(\n",
      "Validation Epoch 9: 100%|██████████| 20/20 [00:49<00:00,  2.46s/batch, loss=0.00126]\n"
     ]
    },
    {
     "name": "stdout",
     "output_type": "stream",
     "text": [
      "Epoch 9 Validation Loss: 0.4041, Validation Accuracy: 83.33%\n"
     ]
    },
    {
     "name": "stderr",
     "output_type": "stream",
     "text": [
      "Epoch 10: 100%|██████████| 78/78 [10:06<00:00,  7.78s/batch, loss=0.000912]\n"
     ]
    },
    {
     "name": "stdout",
     "output_type": "stream",
     "text": [
      "Epoch 10 Training Loss: 0.0021, Training Accuracy: 100.00%\n"
     ]
    },
    {
     "name": "stderr",
     "output_type": "stream",
     "text": [
      "c:\\Users\\ngoth\\miniconda3\\envs\\pyml-book\\Lib\\site-packages\\datasets\\load.py:759: FutureWarning: The repository for accuracy contains custom code which must be executed to correctly load the metric. You can inspect the repository content at https://raw.githubusercontent.com/huggingface/datasets/2.19.1/metrics/accuracy/accuracy.py\n",
      "You can avoid this message in future by passing the argument `trust_remote_code=True`.\n",
      "Passing `trust_remote_code=True` will be mandatory to load this metric from the next major release of `datasets`.\n",
      "  warnings.warn(\n",
      "Validation Epoch 10: 100%|██████████| 20/20 [00:49<00:00,  2.46s/batch, loss=0.00103] "
     ]
    },
    {
     "name": "stdout",
     "output_type": "stream",
     "text": [
      "Epoch 10 Validation Loss: 0.5064, Validation Accuracy: 88.46%\n",
      "Best model saved to ./trained models/mci_distilhubert_88.46% val acc.pth with validation accuracy: 88.46%\n"
     ]
    },
    {
     "name": "stderr",
     "output_type": "stream",
     "text": [
      "\n"
     ]
    }
   ],
   "source": [
    "# Assuming CustomDataset is already defined and data is loaded\n",
    "# dataset = CustomDataset(data, labels)\n",
    "# dataloader = DataLoader(dataset, batch_size=32, shuffle=True)\n",
    "\n",
    "\n",
    "# Initialize model, loss function, and optimizer\n",
    "#input_size = 10  # Example input size\n",
    "from idna import valid_contextj\n",
    "from torch import mode\n",
    "\n",
    "\n",
    "num_classes = 2  # Example number of classes\n",
    "criterion = nn.CrossEntropyLoss()\n",
    "optimizer = optim.Adam(model.parameters(), lr=5e-5)\n",
    "\n",
    "model.to(device)\n",
    "\n",
    "# Load accuracy metric\n",
    "accuracy_metric = load_metric(\"accuracy\")\n",
    "train_loss_list = []\n",
    "train_accuracy_list = []\n",
    "val_loss_list = []\n",
    "val_accuracy_list = []\n",
    "\n",
    "# Initialize variables to store the best model\n",
    "best_val_accuracy = 0.0\n",
    "best_model_state = None\n",
    "\n",
    "# Training loop with tqdm\n",
    "num_epochs = 10\n",
    "for epoch in range(num_epochs):\n",
    "    train_loss = 0.0\n",
    "    with tqdm(train_dataset_dataloader, unit=\"batch\") as tepoch:\n",
    "        for data, labels in tepoch:\n",
    "            tepoch.set_description(f\"Epoch {epoch+1}\")\n",
    "            data[\"input_values\"] = data[\"input_values\"][0]\n",
    "            data[\"attention_mask\"] = data[\"attention_mask\"][0]\n",
    "            #print('data:', data)\n",
    "            #print('labels:', labels)\n",
    "            data, labels = data.to(device), labels.to(device)\n",
    "\n",
    "            # Forward pass\n",
    "            outputs = model(input_values=data[\"input_values\"], attention_mask=data[\"attention_mask\"], labels=labels)\n",
    "            #print('outputs:', outputs)\n",
    "            #loss = criterion(outputs.logits, labels)\n",
    "            loss = outputs.loss\n",
    "            train_loss += loss.item()\n",
    "\n",
    "            # Calculate accuracy\n",
    "            _, predicted = torch.max(outputs.logits, 1)\n",
    "            accuracy_metric.add_batch(predictions=predicted, references=labels)\n",
    "\n",
    "            # Backward pass and optimization\n",
    "            optimizer.zero_grad()\n",
    "            loss.backward()\n",
    "            optimizer.step()\n",
    "\n",
    "            #accuracy = 100 * correct / total\n",
    "            tepoch.set_postfix(loss=loss.item())\n",
    "    # Compute and print accuracy at the end of the epoch\n",
    "    train_loss /= len(train_dataset_dataloader)\n",
    "    train_loss_list.append(train_loss)\n",
    "    accuracy = accuracy_metric.compute()\n",
    "    train_accuracy_list.append(accuracy['accuracy'])\n",
    "    print(f\"Epoch {epoch+1} Training Loss: {train_loss:.4f}, Training Accuracy: {accuracy['accuracy'] * 100:.2f}%\")\n",
    "\n",
    "    # Evaluation loop\n",
    "    model.eval()\n",
    "    val_loss = 0.0\n",
    "    val_accuracy_metric = load_metric(\"accuracy\")  # Reset accuracy metric for validation\n",
    "    with torch.no_grad():\n",
    "        with tqdm(val_dataset_dataloader, unit=\"batch\") as vepoch:\n",
    "            for data, labels in vepoch:\n",
    "                vepoch.set_description(f\"Validation Epoch {epoch+1}\")\n",
    "                data[\"input_values\"] = data[\"input_values\"][0]\n",
    "                data[\"attention_mask\"] = data[\"attention_mask\"][0]\n",
    "\n",
    "                data, labels = data.to(device), labels.to(device)\n",
    "\n",
    "                # Forward pass\n",
    "                outputs = model(input_values=data[\"input_values\"], attention_mask=data[\"attention_mask\"], labels=labels)\n",
    "                loss = outputs.loss\n",
    "                val_loss += loss.item()\n",
    "\n",
    "                # Calculate accuracy\n",
    "                _, predicted = torch.max(outputs.logits, 1)\n",
    "                val_accuracy_metric.add_batch(predictions=predicted, references=labels)\n",
    "\n",
    "                vepoch.set_postfix(loss=loss.item())\n",
    "\n",
    "    # Compute and print validation loss and accuracy\n",
    "    val_loss /= len(val_dataset_dataloader)\n",
    "    val_loss_list.append(val_loss)\n",
    "    val_accuracy = val_accuracy_metric.compute()\n",
    "    val_accuracy_list.append(val_accuracy['accuracy'])\n",
    "    if val_accuracy['accuracy'] > best_val_accuracy:\n",
    "        best_val_accuracy = val_accuracy['accuracy']\n",
    "        best_model_state = model.state_dict()\n",
    "        print(f\"Best model found with validation accuracy: {best_val_accuracy * 100:.2f}%\")\n",
    "    print(f\"Epoch {epoch+1} Validation Loss: {val_loss:.4f}, Validation Accuracy: {val_accuracy['accuracy'] * 100:.2f}%\")\n",
    "\n",
    "# Save the best model\n",
    "if best_model_state is not None:\n",
    "    #timestamp = datetime.now().strftime(\"%Y-%m-%d_%H-%M-%S\")\n",
    "    model_save_path = f'./trained models/mci_{model_name}_{best_val_accuracy * 100:.2f}% val acc.pth'\n",
    "    torch.save(best_model_state, model_save_path)\n",
    "    print(f\"Best model saved to {model_save_path} with validation accuracy: {best_val_accuracy * 100:.2f}%\")"
   ]
  },
  {
   "cell_type": "code",
   "execution_count": 42,
   "metadata": {},
   "outputs": [],
   "source": [
    "import matplotlib.pyplot as plt"
   ]
  },
  {
   "cell_type": "code",
   "execution_count": 45,
   "metadata": {},
   "outputs": [
    {
     "data": {
      "image/png": "[encoded data removed]",
      "text/plain": [
       "<Figure size 640x480 with 1 Axes>"
      ]
     },
     "metadata": {},
     "output_type": "display_data"
    }
   ],
   "source": [
    "plt.plot(train_loss_list, label=\"Training Loss\")\n",
    "plt.plot(val_loss_list, label=\"Validation Loss\")\n",
    "plt.xlabel(\"Epoch\")\n",
    "plt.ylabel(\"Loss\")\n",
    "plt.legend()\n",
    "plt.savefig('loss.png')\n",
    "plt.show()\n"
   ]
  },
  {
   "cell_type": "code",
   "execution_count": 46,
   "metadata": {},
   "outputs": [
    {
     "data": {
      "image/png": "[encoded data removed]",
      "text/plain": [
       "<Figure size 640x480 with 1 Axes>"
      ]
     },
     "metadata": {},
     "output_type": "display_data"
    }
   ],
   "source": [
    "plt.plot(train_accuracy_list, label=\"Training Loss\")\n",
    "plt.plot(val_accuracy_list, label=\"Validation Loss\")\n",
    "plt.xlabel(\"Accuracy\")\n",
    "plt.ylabel(\"Loss\")\n",
    "plt.legend()\n",
    "plt.savefig('accuracy.png')\n",
    "plt.show()"
   ]
  },
  {
   "cell_type": "code",
   "execution_count": 65,
   "metadata": {},
   "outputs": [
    {
     "name": "stderr",
     "output_type": "stream",
     "text": [
      "C:\\Users\\ngoth\\AppData\\Local\\Temp\\ipykernel_6800\\256210211.py:1: FutureWarning: You are using `torch.load` with `weights_only=False` (the current default value), which uses the default pickle module implicitly. It is possible to construct malicious pickle data which will execute arbitrary code during unpickling (See https://github.com/pytorch/pytorch/blob/main/SECURITY.md#untrusted-models for more details). In a future release, the default value for `weights_only` will be flipped to `True`. This limits the functions that could be executed during unpickling. Arbitrary objects will no longer be allowed to be loaded via this mode unless they are explicitly allowlisted by the user via `torch.serialization.add_safe_globals`. We recommend you start setting `weights_only=True` for any use case where you don't have full control of the loaded file. Please open an issue on GitHub for any issues related to this experimental feature.\n",
      "  model.load_state_dict(torch.load(model_save_path))\n"
     ]
    },
    {
     "name": "stdout",
     "output_type": "stream",
     "text": [
      "Model loaded successfully from ./trained models/mci model 85 acc.pth!\n"
     ]
    },
    {
     "name": "stderr",
     "output_type": "stream",
     "text": [
      "Validation Epoch: 100%|██████████| 30/30 [01:30<00:00,  3.02s/batch, loss=5.15]    "
     ]
    },
    {
     "name": "stdout",
     "output_type": "stream",
     "text": [
      "Validation Accuracy: 48.33%\n"
     ]
    },
    {
     "name": "stderr",
     "output_type": "stream",
     "text": [
      "\n"
     ]
    }
   ],
   "source": [
    "model.load_state_dict(torch.load(model_save_path))\n",
    "print(f\"Model loaded successfully from {model_save_path}!\")\n",
    "model.eval()\n",
    "with torch.no_grad():\n",
    "        with tqdm(test_dataset_dataloader, unit=\"batch\") as vepoch:\n",
    "            for data, labels in vepoch:\n",
    "                vepoch.set_description(f\"Validation Epoch\")\n",
    "                data[\"input_values\"] = data[\"input_values\"][0]\n",
    "                data[\"attention_mask\"] = data[\"attention_mask\"][0]\n",
    "\n",
    "                data, labels = data.to(device), labels.to(device)\n",
    "\n",
    "                # Forward pass\n",
    "                outputs = model(input_values=data[\"input_values\"], attention_mask=data[\"attention_mask\"], labels=labels)\n",
    "                loss = outputs.loss\n",
    "\n",
    "                _, predicted = torch.max(outputs.logits, 1)\n",
    "                val_accuracy_metric.add_batch(predictions=predicted, references=labels)\n",
    "\n",
    "                vepoch.set_postfix(loss=loss.item())\n",
    "\n",
    "val_accuracy = val_accuracy_metric.compute()\n",
    "print(f\"Validation Accuracy: {val_accuracy['accuracy'] * 100:.2f}%\")"
   ]
  }
 ],
 "metadata": {
  "kernelspec": {
   "display_name": "pyml-book",
   "language": "python",
   "name": "python3"
  },
  "language_info": {
   "codemirror_mode": {
    "name": "ipython",
    "version": 3
   },
   "file_extension": ".py",
   "mimetype": "text/x-python",
   "name": "python",
   "nbconvert_exporter": "python",
   "pygments_lexer": "ipython3",
   "version": "3.12.3"
  }
 },
 "nbformat": 4,
 "nbformat_minor": 2
}
